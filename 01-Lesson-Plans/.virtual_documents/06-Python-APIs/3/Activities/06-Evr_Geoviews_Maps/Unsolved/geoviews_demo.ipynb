





# Import the required libraries


# Turn off warning messages







# Create a dictionary containing coordinates
coordinates = {
    "latitude": [-31.9523, -33.8688, -27.4705],
    "longitude": [115.8613, 151.2093, 153.0260],
    "City": ["Perth", "Sydney", "Brisbane"],
    "Population": [2099530, 4637436, 2495825]
}


# Create a Pandas DataFrame containing coordinates
coordinates_df = pd.DataFrame(coordinates)

# Display sample data
coordinates_df





# Configure the map plot_1


# Display the map plot_1






# Configure the map plot_2


# Display the map plot






# Configure the map plot_3


# Display the map plot






# Configure the map plot_4


# Display the map plot




