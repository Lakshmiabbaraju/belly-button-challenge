


# Dependencies and Setup
import matplotlib.pyplot as plt
import pandas as pd
import scipy.stats as st
import numpy as np

# Study data files
mouse_metadata_path = "data/Mouse_metadata.csv"
study_results_path = "data/Study_results.csv"

# Read the mouse data and the study results
mouse_metadata = pd.read_csv(mouse_metadata_path)
study_results = pd.read_csv(study_results_path)

# Combine the data into a single DataFrame
merged_data_frame = pd.merge(mouse_metadata, study_results, how="outer", on="Mouse ID")
# Display the data table for preview
merged_data_frame = merged_data_frame[['Mouse ID', 'Timepoint', 'Tumor Volume (mm3)', 'Metastatic Sites', 
                               'Drug Regimen', 'Sex', 'Age_months', 'Weight (g)']]

merged_data_frame.head()


# Checking the number of mice.
mice_number = len(merged_data_frame['Mouse ID'].unique())
print(f'The total number of unique Mouse IDs in this study is {mice_number}.')


# Our data should be uniquely identified by Mouse ID and Timepoint
# Get the duplicate mice by ID number that shows up for Mouse ID and Timepoint.
duplicate_mice = merged_data_frame.loc[merged_data_frame.duplicated(subset=['Mouse ID', 'Timepoint',]),'Mouse ID'].unique()
duplicate_mice


# Optional: Get all the data for the duplicate mouse ID.
duplicate_id = merged_data_frame.loc[merged_data_frame["Mouse ID"] == "g989", :]
duplicate_id


# Create a clean DataFrame by dropping the duplicate mouse by its ID.
clean_dataframe = merged_data_frame[merged_data_frame['Mouse ID'].isin(duplicate_mice)==False]
clean_dataframe.head()


# Checking the number of mice in the clean DataFrame.
clean_mice = clean_dataframe['Mouse ID'].value_counts()
clean_mice_number = len(clean_mice)
clean_mice_number





# Generate a summary statistics table of mean, median, variance, standard deviation, and SEM of the tumor volume for each regimen
# Use groupby and summary statistical methods to calculate the following properties of each drug regimen:
# mean, median, variance, standard deviation, and SEM of the tumor volume.
mean = clean_dataframe['Tumor Volume (mm3)'].groupby(clean_dataframe['Drug Regimen']).mean()
median = clean_dataframe['Tumor Volume (mm3)'].groupby(clean_dataframe['Drug Regimen']).median()
var = clean_dataframe['Tumor Volume (mm3)'].groupby(clean_dataframe['Drug Regimen']).var()
std = clean_dataframe['Tumor Volume (mm3)'].groupby(clean_dataframe['Drug Regimen']).std()
sem = clean_dataframe['Tumor Volume (mm3)'].groupby(clean_dataframe['Drug Regimen']).sem()

# Assemble the resulting series into a single summary DataFrame.
summary_df = pd.DataFrame({"Mean Tumor Volume":mean, 
                            "Median Tumor Volume":median, 
                           "Tumor Volume Variance":var, 
                           "Tumor Volume Std. Dev.":std, 
                           "Tumor Volume Std. Err.":sem})
summary_df


# A more advanced method to generate a summary statistics table of mean, median, variance, standard deviation,
# and SEM of the tumor volume for each regimen (only one method is required in the solution)
stat = ['mean', 'median', 'var', 'std', 'sem']
# Using the aggregation method, produce the same summary statistics in a single line
summary_aggregation =  clean_dataframe.groupby(['Drug Regimen'])[['Tumor Volume (mm3)']].agg(['mean', 'median', 'var', 'std', 'sem'])
summary_aggregation





# Generate a bar plot showing the total number of rows (Mouse ID/Timepoints) for each drug regimen using Pandas.
mice_count = clean_dataframe["Drug Regimen"].value_counts()
first_bar_chart = mice_count.plot.bar(color='tab:blue')  
plt.xlabel("Drug Regimen")
plt.ylabel("Number of Mice")
plt.title("Number of Mice per Treatment")


# Generate a bar plot showing the total number of rows (Mouse ID/Timepoints) for each drug regimen using pyplot.
x_axis = mice_count.index.values
y_axis = mice_count.values
# Creating a Pyplot bar plot based off of the group series from before and label the title
plt.bar(x_axis, y_axis, color='tab:blue', alpha=1, align='center')

# Setting the xlabel and ylabel, title using class methods
plt.xlabel("Drug Regimen")
plt.ylabel("Number of Mice Tested")
plt.xticks(rotation="vertical")
plt.title("Number of Mice per Treatment")

plt.show()


# Generate a pie chart, using Pandas, showing the distribution of unique female versus male mice used in the study
# Get the unique mice with their gender
# Make the pie chart

sex_data = clean_dataframe["Sex"].value_counts()
sex_data.plot.pie(autopct= "%1.1f%%")
plt.title("Female vs. Male Mice")
plt.ylabel('Sex')
plt.show()



# Generating a pie plot showing the distribution of female versus male mice using pyplot
labels = ['Female', 'Male']
sizes = [49.8989395, 50.700902]
plot = sex_data.plot.pie(y='Total Count', autopct="%1.1f%%")
plt.ylabel('Sex')
plt.title("Female vs. Male Mice")
plt.show()





# Calculate the final tumor volume of each mouse across four of the treatment regimens:
# Capomulin, Ramicane, Infubinol, and Ceftamin
# Start by getting the last (greatest) timepoint for each mouse
# Merge this group df with the original DataFrame to get the tumor volume at the last timepoint

Capomulin_df = clean_dataframe.loc[clean_dataframe["Drug Regimen"] == "Capomulin",:]
Ramicane_df = clean_dataframe.loc[clean_dataframe["Drug Regimen"] == "Ramicane", :]
Infubinol_df = clean_dataframe.loc[clean_dataframe["Drug Regimen"] == "Infubinol", :]
Ceftamin_df = clean_dataframe.loc[clean_dataframe["Drug Regimen"] == "Ceftamin", :]

Capomulin_last = Capomulin_df.groupby('Mouse ID').max()['Timepoint']
Capomulin_vol = pd.DataFrame(Capomulin_last)
Capomulin_merge = pd.merge(Capomulin_vol, clean_dataframe, on=("Mouse ID","Timepoint"),how="left")
Capomulin_merge.head()

Ramicane_last = Ramicane_df.groupby('Mouse ID').max()['Timepoint']
Ramicane_vol = pd.DataFrame(Ramicane_last)
Ramicane_merge = pd.merge(Ramicane_vol, clean_dataframe, on=("Mouse ID", "Timepoint"), how="left")

Infubinol_last = Infubinol_df.groupby('Mouse ID').max()['Timepoint']
Infubinol_vol = pd.DataFrame(Infubinol_last)
Infubinol_merge = pd.merge(Infubinol_vol, clean_dataframe, on=("Mouse ID", "Timepoint"), how="left")

Ceftamin_last = Ceftamin_df.groupby('Mouse ID').max()['Timepoint']
Ceftamin_vol = pd.DataFrame(Ceftamin_last)
Ceftamin_merge = pd.merge(Ceftamin_vol, clean_dataframe, on=("Mouse ID", "Timepoint"), how="left")

combined_last_timepoint_df = pd.concat([Capomulin_merge, Ramicane_merge, Infubinol_merge, Ceftamin_merge])

combined_last_timepoint_df.head()


# Put treatments into a list for for loop (and later for plot labels)

treatments = ["Capomulin", "Ramicane", "Infubinol", "Ceftamin"]

tumor_vol_data = {treatment: [] for treatment in treatments}

for treatment in treatments:
    treatment_df = combined_last_timepoint_df.loc[combined_last_timepoint_df['Drug Regimen'] == treatment, 'Tumor Volume (mm3)']
    tumor_vol_data[treatment] = treatment_df
    quartiles = treatment_df.quantile([0.25, 0.5, 0.75])
    lowerq = quartiles[0.25]
    upperq = quartiles[0.75]
    iqr = upperq - lowerq
# Determine outliers using upper and lower bounds
    lower_bound = lowerq - (1.5 * iqr)
    upper_bound = upperq + (1.5 * iqr)
    
    outliers = treatment_df[(treatment_df < lower_bound) | (treatment_df > upper_bound)]
    print(f'{treatment} potential outliers: {outliers}')


# Generate a box plot that shows the distribution of the tumor volume for each treatment group.
data_to_plot = [tumor_vol_data[treatment] for treatment in treatments]

fig, ax = plt.subplots(figsize=(10, 6))
ax.boxplot(data_to_plot, tick_labels=treatments, flierprops=dict(markerfacecolor='r', marker='o'))

ax.set_title('Tumor Volume Distribution by Treatment')
ax.set_xlabel('Treatment')
ax.set_ylabel('Tumor Volume (mm3)')
plt.show()






# Generate a line plot of tumor volume vs. time point for a single mouse treated with Capomulin
single_mouse_id = Capomulin_df['Mouse ID'].unique()[0]
single_mouse_data = Capomulin_df[Capomulin_df['Mouse ID'] == single_mouse_id]

fig, ax = plt.subplots(figsize=(10, 6))
ax.plot(single_mouse_data['Timepoint'], single_mouse_data['Tumor Volume (mm3)'])

ax.set_title(f'Tumor Volume vs. Time Point for Mouse {single_mouse_id} Treated with Capomulin')
ax.set_xlabel('Time Point')
ax.set_ylabel('Tumor Volume (mm3)')
plt.show()


capomulin_avg_tumor_vol = Capomulin_df.groupby('Mouse ID')['Tumor Volume (mm3)'].mean().reset_index()
capomulin_avg_tumor_vol = capomulin_avg_tumor_vol.rename(columns={'Tumor Volume (mm3)': 'Average Tumor Volume (mm3)'})

capomulin_merged_data = pd.merge(capomulin_avg_tumor_vol, mouse_metadata[['Mouse ID', 'Weight (g)']], on='Mouse ID')

fig, ax = plt.subplots(figsize=(10, 6))
ax.scatter(capomulin_merged_data['Weight (g)'], capomulin_merged_data['Average Tumor Volume (mm3)'])

ax.set_title('Mouse Weight vs. Average Tumor Volume for Capomulin Regimen')
ax.set_xlabel('Weight (g)')
ax.set_ylabel('Average Tumor Volume (mm3)')
plt.show()





# Calculate the correlation coefficient and a linear regression model
# for mouse weight and average observed tumor volume for the entire Capomulin regimen
correlation_coefficient = capomulin_merged_data['Weight (g)'].corr(capomulin_merged_data['Average Tumor Volume (mm3)'])
print(f'The correlation between mouse weight and the average tumor volume is: {correlation_coefficient:.2f}')




x = capomulin_merged_data['Weight (g)']
y = capomulin_merged_data['Average Tumor Volume (mm3)']

slope, intercept = np.polyfit(x, y, 1)

regression_line = slope * x + intercept

ss_res = np.sum((y - regression_line) ** 2)
ss_tot = np.sum((y - np.mean(y)) ** 2)
r_squared = 1 - (ss_res / ss_tot)

n = len(x)
std_err = np.sqrt(ss_res / (n - 2))

fig, ax = plt.subplots(figsize=(10, 6))
ax.scatter(x, y, label='Data')
ax.plot(x, regression_line, color='red', label='Fitted line')

ax.set_title('Mouse Weight vs. Average Tumor Volume for Capomulin Regimen')
ax.set_xlabel('Weight (g)')
ax.set_ylabel('Average Tumor Volume (mm3)')
ax.legend()
plt.show()



