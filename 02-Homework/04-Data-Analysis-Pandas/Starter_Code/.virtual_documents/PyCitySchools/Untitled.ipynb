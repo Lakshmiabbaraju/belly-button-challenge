pip install jupyter-linenumbers
   jupyter nbextension enable --py jupyter_linenumbers



